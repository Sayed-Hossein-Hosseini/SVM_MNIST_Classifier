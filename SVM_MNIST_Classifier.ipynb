{
  "nbformat": 4,
  "nbformat_minor": 0,
  "metadata": {
    "colab": {
      "provenance": [],
      "authorship_tag": "ABX9TyPrkl6sfovpKRuY0tPAFTPu",
      "include_colab_link": true
    },
    "kernelspec": {
      "name": "python3",
      "display_name": "Python 3"
    },
    "language_info": {
      "name": "python"
    }
  },
  "cells": [
    {
      "cell_type": "markdown",
      "metadata": {
        "id": "view-in-github",
        "colab_type": "text"
      },
      "source": [
        "<a href=\"https://colab.research.google.com/github/Sayed-Hossein-Hosseini/SVM_MNIST_Classifier/blob/master/SVM_MNIST_Classifier.ipynb\" target=\"_parent\"><img src=\"https://colab.research.google.com/assets/colab-badge.svg\" alt=\"Open In Colab\"/></a>"
      ]
    },
    {
      "cell_type": "markdown",
      "source": [
        "# **SVM MNIST Classifier**"
      ],
      "metadata": {
        "id": "6WZeUOutT7Tm"
      }
    },
    {
      "cell_type": "markdown",
      "source": [
        "## **Libraries**"
      ],
      "metadata": {
        "id": "QrWSyQI-UBGe"
      }
    },
    {
      "cell_type": "code",
      "execution_count": 1,
      "metadata": {
        "id": "LxBkoaiST2bM"
      },
      "outputs": [],
      "source": [
        "import numpy as np\n",
        "from keras.datasets import mnist\n",
        "import matplotlib.pyplot as plt\n",
        "from cvxopt import matrix, solvers\n",
        "from sklearn.metrics import confusion_matrix, ConfusionMatrixDisplay"
      ]
    },
    {
      "cell_type": "markdown",
      "source": [
        "## **Load MNIST Data**"
      ],
      "metadata": {
        "id": "FlwjJjff0X4G"
      }
    },
    {
      "cell_type": "code",
      "source": [
        "# Load MNIST data\n",
        "(X_train, y_train), (X_test, y_test) = mnist.load_data()"
      ],
      "metadata": {
        "colab": {
          "base_uri": "https://localhost:8080/"
        },
        "id": "FmgHH-Uq0YO1",
        "outputId": "d0a36ba8-20a7-43a1-c75b-4aa8333ed4f6"
      },
      "execution_count": 2,
      "outputs": [
        {
          "output_type": "stream",
          "name": "stdout",
          "text": [
            "Downloading data from https://storage.googleapis.com/tensorflow/tf-keras-datasets/mnist.npz\n",
            "\u001b[1m11490434/11490434\u001b[0m \u001b[32m━━━━━━━━━━━━━━━━━━━━\u001b[0m\u001b[37m\u001b[0m \u001b[1m0s\u001b[0m 0us/step\n"
          ]
        }
      ]
    },
    {
      "cell_type": "markdown",
      "source": [
        "## **Flatten the Images**"
      ],
      "metadata": {
        "id": "JUQcX5rI09l7"
      }
    },
    {
      "cell_type": "code",
      "source": [
        "# Flatten the images\n",
        "X_train = X_train.reshape(-1, 28*28) / 255.0\n",
        "X_test = X_test.reshape(-1, 28*28) / 255.0"
      ],
      "metadata": {
        "id": "7HHgRK1f092T"
      },
      "execution_count": 3,
      "outputs": []
    },
    {
      "cell_type": "markdown",
      "source": [
        "## **Hyperparameters**"
      ],
      "metadata": {
        "id": "XOoOpqzd2hZX"
      }
    },
    {
      "cell_type": "code",
      "source": [
        "# Hyperparameters\n",
        "batch_size = 1000\n",
        "C = 1.0"
      ],
      "metadata": {
        "id": "dOvH8lyq2hqM"
      },
      "execution_count": 4,
      "outputs": []
    },
    {
      "cell_type": "markdown",
      "source": [
        "## **Linear Kernel**"
      ],
      "metadata": {
        "id": "UhbSj8GX26kX"
      }
    },
    {
      "cell_type": "code",
      "source": [
        "# Linear kernel\n",
        "def linear_kernel(x1, x2):\n",
        "    return np.dot(x1, x2)"
      ],
      "metadata": {
        "id": "HBMgTQV4265P"
      },
      "execution_count": 5,
      "outputs": []
    },
    {
      "cell_type": "markdown",
      "source": [
        "## **SVM Train for Binary Classification**"
      ],
      "metadata": {
        "id": "3-CTiLl03NQg"
      }
    },
    {
      "cell_type": "code",
      "source": [
        "# SVM train for binary classification\n",
        "def svm_train(X, y, C=1.0):\n",
        "    n_samples, n_features = X.shape\n",
        "    K = np.dot(X, X.T)\n",
        "\n",
        "    P = matrix(np.outer(y, y) * K)\n",
        "    q = matrix(-np.ones(n_samples))\n",
        "    G = matrix(np.vstack((-np.eye(n_samples), np.eye(n_samples))))\n",
        "    h = matrix(np.hstack((np.zeros(n_samples), np.ones(n_samples) * C)))\n",
        "    A = matrix(y.astype('double'), (1, n_samples))\n",
        "    b = matrix(0.0)\n",
        "\n",
        "    sol = solvers.qp(P, q, G, h, A, b)\n",
        "    alphas = np.ravel(sol['x'])\n",
        "\n",
        "    sv = alphas > 1e-5\n",
        "    alphas = alphas[sv]\n",
        "    sv_X = X[sv]\n",
        "    sv_y = y[sv]\n",
        "\n",
        "    b = np.mean(sv_y - np.dot(sv_X, np.dot(sv_X.T, alphas * sv_y)))\n",
        "    w = np.dot((alphas * sv_y), sv_X)\n",
        "\n",
        "    return w, b"
      ],
      "metadata": {
        "id": "OtCCKN3w3NfE"
      },
      "execution_count": 6,
      "outputs": []
    },
    {
      "cell_type": "markdown",
      "source": [
        "## **Predict**"
      ],
      "metadata": {
        "id": "rWbY2pOy3go8"
      }
    },
    {
      "cell_type": "code",
      "source": [
        "# Predict\n",
        "def svm_predict(X, w, b):\n",
        "    return np.dot(X, w) + b"
      ],
      "metadata": {
        "id": "qHSfbC0s3g1K"
      },
      "execution_count": 7,
      "outputs": []
    }
  ]
}